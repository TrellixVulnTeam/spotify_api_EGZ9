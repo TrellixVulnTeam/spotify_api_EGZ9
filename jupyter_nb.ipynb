{
 "metadata": {
  "language_info": {
   "codemirror_mode": {
    "name": "ipython",
    "version": 3
   },
   "file_extension": ".py",
   "mimetype": "text/x-python",
   "name": "python",
   "nbconvert_exporter": "python",
   "pygments_lexer": "ipython3",
   "version": "3.9.1-final"
  },
  "orig_nbformat": 2,
  "kernelspec": {
   "name": "python3",
   "display_name": "Python 3.9.1 64-bit ('conda-env': conda)",
   "metadata": {
    "interpreter": {
     "hash": "1c3d6c6c87fb00800397c5dfb7abc3fdadecf45139c01bb4566cb941a364e9b2"
    }
   }
  }
 },
 "nbformat": 4,
 "nbformat_minor": 2,
 "cells": [
  {
   "source": [
    "## Imports and Spotify Credentials"
   ],
   "cell_type": "markdown",
   "metadata": {}
  },
  {
   "cell_type": "code",
   "execution_count": 2,
   "metadata": {},
   "outputs": [],
   "source": [
    "import spotipy\n",
    "import pandas as pd\n",
    "import json\n",
    "from spotipy.oauth2 import SpotifyClientCredentials"
   ]
  },
  {
   "cell_type": "code",
   "execution_count": 3,
   "metadata": {},
   "outputs": [],
   "source": [
    "# IDs to access Spotify API\n",
    "client_id = \"f607746d600d4ce9ac4089a44c832475\"\n",
    "client_secret = \"f94376c20039457e90d5d18b874d0955\""
   ]
  },
  {
   "cell_type": "code",
   "execution_count": 4,
   "metadata": {},
   "outputs": [],
   "source": [
    "# Pass the above IDs as arguments to spotipy to gain access.\n",
    "client_credentials_manager = SpotifyClientCredentials(client_id, client_secret)\n",
    "spot = spotipy.Spotify(client_credentials_manager=client_credentials_manager)"
   ]
  },
  {
   "cell_type": "code",
   "execution_count": 5,
   "metadata": {},
   "outputs": [],
   "source": [
    "# ID of the playlist to be analyzed. Pass to spotipy.\n",
    "playlist_id = \"spotify:playlist:37i9dQZF1EMdY30Sxip47Z\"\n",
    "results = spot.playlist(playlist_id)"
   ]
  },
  {
   "source": [
    "## DataFrame Creation"
   ],
   "cell_type": "markdown",
   "metadata": {}
  },
  {
   "cell_type": "code",
   "execution_count": 6,
   "metadata": {},
   "outputs": [],
   "source": [
    "ids = []"
   ]
  },
  {
   "cell_type": "code",
   "execution_count": 7,
   "metadata": {},
   "outputs": [],
   "source": [
    "# Loop through the results from spotify_data.py. Append the 'track' and 'id' to the ids list.\n",
    "for item in results['tracks']['items']:\n",
    "    track = item['track']['id']\n",
    "    ids.append(track)"
   ]
  },
  {
   "cell_type": "code",
   "execution_count": 8,
   "metadata": {},
   "outputs": [],
   "source": [
    "# Song data to be collected and stored in dictionary.\n",
    "song_meta = {'id':[], 'album':[], 'name':[], 'artist':[], 'explicit':[], 'popularity':[]}\n"
   ]
  },
  {
   "cell_type": "code",
   "execution_count": 9,
   "metadata": {},
   "outputs": [],
   "source": [
    "for song_id in ids:\n",
    "    meta = spot.track(song_id)\n",
    "\n",
    "    # Append song id to the id list in the song meta dict.\n",
    "    song_meta['id'].append(song_id)\n",
    "\n",
    "    # Album name\n",
    "    album = meta['album']['name']\n",
    "    song_meta['album'].append(album)\n",
    "\n",
    "    # Song name\n",
    "    song = meta['name']\n",
    "    song_meta['name'].append(song)\n",
    "\n",
    "    # Artist's name. List comprehension to grab artist name and join on comma/space.\n",
    "    s = ', '\n",
    "    artist = s.join([singer_name['name'] for singer_name in meta['artists']])\n",
    "    song_meta['artist'].append(artist)\n",
    "\n",
    "    # Explicit\n",
    "    explicit = meta['explicit']\n",
    "    song_meta['explicit'].append(explicit)\n",
    "\n",
    "    # Song popularity\n",
    "    popularity = meta['popularity']\n",
    "    song_meta['popularity'].append(popularity)"
   ]
  },
  {
   "cell_type": "code",
   "execution_count": 10,
   "metadata": {},
   "outputs": [],
   "source": [
    "# Create dataframe from the song metadata using pandas.\n",
    "song_meta_df = pd.DataFrame.from_dict(song_meta)"
   ]
  },
  {
   "cell_type": "code",
   "execution_count": 11,
   "metadata": {},
   "outputs": [],
   "source": [
    "# Check the song feature\n",
    "features = spot.audio_features(song_meta['id'])"
   ]
  },
  {
   "cell_type": "code",
   "execution_count": 12,
   "metadata": {},
   "outputs": [],
   "source": [
    "# Change dictionary to dataframe.\n",
    "features_df = pd.DataFrame.from_dict(features)"
   ]
  },
  {
   "cell_type": "code",
   "execution_count": 13,
   "metadata": {},
   "outputs": [],
   "source": [
    "# Convert ms to min. Song duration currently in milliseconds.\n",
    "features_df['duration_ms'] = features_df['duration_ms']/60000"
   ]
  },
  {
   "cell_type": "code",
   "execution_count": 14,
   "metadata": {},
   "outputs": [],
   "source": [
    "final_df = song_meta_df.merge(features_df)"
   ]
  },
  {
   "cell_type": "code",
   "execution_count": 15,
   "metadata": {},
   "outputs": [
    {
     "output_type": "execute_result",
     "data": {
      "text/plain": [
       "                        id                                           album  \\\n",
       "0   1xGkvw8sTnDujVFcMN6zvc                           Gimme Back My Bullets   \n",
       "1   0CBM2iiBZmfKntDeQYboqU                                          Temper   \n",
       "2   2nIulsLMiP2SMTDrtxfQXX                                     Royal Blood   \n",
       "3   2XHjFJVXYlEzoDvN82h8s5        The Smoker You Drink, The Player You Get   \n",
       "4   5NoQvINZLBV1wMYPdNmReL  Road to Ruin (40th Anniversary Deluxe Edition)   \n",
       "..                     ...                                             ...   \n",
       "95  2hE5Lm5XOHR4t3xlhIFauP                              Struttin' My Stuff   \n",
       "96  5Q0AEjqnCep72dyhVlmQ8k                                 Last Train Home   \n",
       "97  6LjvqlPeCj62wF4oPJ6XOe                         15 Years, the Wild Ride   \n",
       "98  0CKxrnF9KplS21LTjkkqsW                   On the Border (2013 Remaster)   \n",
       "99  4NPq7fPxVRbKKuN380vrGH                                        Autonomy   \n",
       "\n",
       "                              name           artist  explicit  popularity  \\\n",
       "0   All I Can Do Is Write About It   Lynyrd Skynyrd     False          50   \n",
       "1                           Animal        Badflower     False          56   \n",
       "2                 Out of the Black      Royal Blood      True          55   \n",
       "3               Rocky Mountain Way        Joe Walsh     False          64   \n",
       "4               I Wanna Be Sedated          Ramones     False          68   \n",
       "..                             ...              ...       ...         ...   \n",
       "95  Fooled Around And Fell In Love     Elvin Bishop     False          62   \n",
       "96                 Louisiana Blues           Foghat     False          30   \n",
       "97                            3 Am    Casey Donahew     False          57   \n",
       "98    Already Gone - 2013 Remaster           Eagles     False          58   \n",
       "99                      Old Flames  Brothers Moving     False          26   \n",
       "\n",
       "    danceability  energy  key  loudness  ...  instrumentalness  liveness  \\\n",
       "0          0.458   0.355    7   -13.198  ...          0.000030    0.4130   \n",
       "1          0.509   0.597    5    -7.255  ...          0.000016    0.1550   \n",
       "2          0.520   0.981    2    -2.750  ...          0.001770    0.1970   \n",
       "3          0.493   0.376    4   -15.045  ...          0.792000    0.1020   \n",
       "4          0.560   0.965   11    -2.341  ...          0.000006    0.1690   \n",
       "..           ...     ...  ...       ...  ...               ...       ...   \n",
       "95         0.633   0.621   10   -11.494  ...          0.017200    0.1860   \n",
       "96         0.405   0.890    1    -7.153  ...          0.010600    0.5670   \n",
       "97         0.295   0.663    7    -5.253  ...          0.000000    0.1140   \n",
       "98         0.465   0.812    7    -6.398  ...          0.000494    0.4080   \n",
       "99         0.523   0.760    2    -6.748  ...          0.000086    0.0713   \n",
       "\n",
       "    valence    tempo            type                                   uri  \\\n",
       "0     0.393   75.728  audio_features  spotify:track:1xGkvw8sTnDujVFcMN6zvc   \n",
       "1     0.341   76.180  audio_features  spotify:track:0CBM2iiBZmfKntDeQYboqU   \n",
       "2     0.633  158.937  audio_features  spotify:track:2nIulsLMiP2SMTDrtxfQXX   \n",
       "3     0.419   86.470  audio_features  spotify:track:2XHjFJVXYlEzoDvN82h8s5   \n",
       "4     0.964  162.825  audio_features  spotify:track:5NoQvINZLBV1wMYPdNmReL   \n",
       "..      ...      ...             ...                                   ...   \n",
       "95    0.593  113.325  audio_features  spotify:track:2hE5Lm5XOHR4t3xlhIFauP   \n",
       "96    0.663  121.781  audio_features  spotify:track:5Q0AEjqnCep72dyhVlmQ8k   \n",
       "97    0.199  100.010  audio_features  spotify:track:6LjvqlPeCj62wF4oPJ6XOe   \n",
       "98    0.811  146.200  audio_features  spotify:track:0CKxrnF9KplS21LTjkkqsW   \n",
       "99    0.758  149.370  audio_features  spotify:track:4NPq7fPxVRbKKuN380vrGH   \n",
       "\n",
       "                                           track_href  \\\n",
       "0   https://api.spotify.com/v1/tracks/1xGkvw8sTnDu...   \n",
       "1   https://api.spotify.com/v1/tracks/0CBM2iiBZmfK...   \n",
       "2   https://api.spotify.com/v1/tracks/2nIulsLMiP2S...   \n",
       "3   https://api.spotify.com/v1/tracks/2XHjFJVXYlEz...   \n",
       "4   https://api.spotify.com/v1/tracks/5NoQvINZLBV1...   \n",
       "..                                                ...   \n",
       "95  https://api.spotify.com/v1/tracks/2hE5Lm5XOHR4...   \n",
       "96  https://api.spotify.com/v1/tracks/5Q0AEjqnCep7...   \n",
       "97  https://api.spotify.com/v1/tracks/6LjvqlPeCj62...   \n",
       "98  https://api.spotify.com/v1/tracks/0CKxrnF9KplS...   \n",
       "99  https://api.spotify.com/v1/tracks/4NPq7fPxVRbK...   \n",
       "\n",
       "                                         analysis_url duration_ms  \\\n",
       "0   https://api.spotify.com/v1/audio-analysis/1xGk...    4.275550   \n",
       "1   https://api.spotify.com/v1/audio-analysis/0CBM...    4.009783   \n",
       "2   https://api.spotify.com/v1/audio-analysis/2nIu...    4.009533   \n",
       "3   https://api.spotify.com/v1/audio-analysis/2XHj...    5.256667   \n",
       "4   https://api.spotify.com/v1/audio-analysis/5NoQ...    2.496450   \n",
       "..                                                ...         ...   \n",
       "95  https://api.spotify.com/v1/audio-analysis/2hE5...    4.600000   \n",
       "96  https://api.spotify.com/v1/audio-analysis/5Q0A...    4.727333   \n",
       "97  https://api.spotify.com/v1/audio-analysis/6Ljv...    4.546450   \n",
       "98  https://api.spotify.com/v1/audio-analysis/0CKx...    4.255767   \n",
       "99  https://api.spotify.com/v1/audio-analysis/4NPq...    4.520550   \n",
       "\n",
       "   time_signature  \n",
       "0               4  \n",
       "1               4  \n",
       "2               4  \n",
       "3               4  \n",
       "4               4  \n",
       "..            ...  \n",
       "95              3  \n",
       "96              4  \n",
       "97              4  \n",
       "98              4  \n",
       "99              4  \n",
       "\n",
       "[100 rows x 23 columns]"
      ],
      "text/html": "<div>\n<style scoped>\n    .dataframe tbody tr th:only-of-type {\n        vertical-align: middle;\n    }\n\n    .dataframe tbody tr th {\n        vertical-align: top;\n    }\n\n    .dataframe thead th {\n        text-align: right;\n    }\n</style>\n<table border=\"1\" class=\"dataframe\">\n  <thead>\n    <tr style=\"text-align: right;\">\n      <th></th>\n      <th>id</th>\n      <th>album</th>\n      <th>name</th>\n      <th>artist</th>\n      <th>explicit</th>\n      <th>popularity</th>\n      <th>danceability</th>\n      <th>energy</th>\n      <th>key</th>\n      <th>loudness</th>\n      <th>...</th>\n      <th>instrumentalness</th>\n      <th>liveness</th>\n      <th>valence</th>\n      <th>tempo</th>\n      <th>type</th>\n      <th>uri</th>\n      <th>track_href</th>\n      <th>analysis_url</th>\n      <th>duration_ms</th>\n      <th>time_signature</th>\n    </tr>\n  </thead>\n  <tbody>\n    <tr>\n      <th>0</th>\n      <td>1xGkvw8sTnDujVFcMN6zvc</td>\n      <td>Gimme Back My Bullets</td>\n      <td>All I Can Do Is Write About It</td>\n      <td>Lynyrd Skynyrd</td>\n      <td>False</td>\n      <td>50</td>\n      <td>0.458</td>\n      <td>0.355</td>\n      <td>7</td>\n      <td>-13.198</td>\n      <td>...</td>\n      <td>0.000030</td>\n      <td>0.4130</td>\n      <td>0.393</td>\n      <td>75.728</td>\n      <td>audio_features</td>\n      <td>spotify:track:1xGkvw8sTnDujVFcMN6zvc</td>\n      <td>https://api.spotify.com/v1/tracks/1xGkvw8sTnDu...</td>\n      <td>https://api.spotify.com/v1/audio-analysis/1xGk...</td>\n      <td>4.275550</td>\n      <td>4</td>\n    </tr>\n    <tr>\n      <th>1</th>\n      <td>0CBM2iiBZmfKntDeQYboqU</td>\n      <td>Temper</td>\n      <td>Animal</td>\n      <td>Badflower</td>\n      <td>False</td>\n      <td>56</td>\n      <td>0.509</td>\n      <td>0.597</td>\n      <td>5</td>\n      <td>-7.255</td>\n      <td>...</td>\n      <td>0.000016</td>\n      <td>0.1550</td>\n      <td>0.341</td>\n      <td>76.180</td>\n      <td>audio_features</td>\n      <td>spotify:track:0CBM2iiBZmfKntDeQYboqU</td>\n      <td>https://api.spotify.com/v1/tracks/0CBM2iiBZmfK...</td>\n      <td>https://api.spotify.com/v1/audio-analysis/0CBM...</td>\n      <td>4.009783</td>\n      <td>4</td>\n    </tr>\n    <tr>\n      <th>2</th>\n      <td>2nIulsLMiP2SMTDrtxfQXX</td>\n      <td>Royal Blood</td>\n      <td>Out of the Black</td>\n      <td>Royal Blood</td>\n      <td>True</td>\n      <td>55</td>\n      <td>0.520</td>\n      <td>0.981</td>\n      <td>2</td>\n      <td>-2.750</td>\n      <td>...</td>\n      <td>0.001770</td>\n      <td>0.1970</td>\n      <td>0.633</td>\n      <td>158.937</td>\n      <td>audio_features</td>\n      <td>spotify:track:2nIulsLMiP2SMTDrtxfQXX</td>\n      <td>https://api.spotify.com/v1/tracks/2nIulsLMiP2S...</td>\n      <td>https://api.spotify.com/v1/audio-analysis/2nIu...</td>\n      <td>4.009533</td>\n      <td>4</td>\n    </tr>\n    <tr>\n      <th>3</th>\n      <td>2XHjFJVXYlEzoDvN82h8s5</td>\n      <td>The Smoker You Drink, The Player You Get</td>\n      <td>Rocky Mountain Way</td>\n      <td>Joe Walsh</td>\n      <td>False</td>\n      <td>64</td>\n      <td>0.493</td>\n      <td>0.376</td>\n      <td>4</td>\n      <td>-15.045</td>\n      <td>...</td>\n      <td>0.792000</td>\n      <td>0.1020</td>\n      <td>0.419</td>\n      <td>86.470</td>\n      <td>audio_features</td>\n      <td>spotify:track:2XHjFJVXYlEzoDvN82h8s5</td>\n      <td>https://api.spotify.com/v1/tracks/2XHjFJVXYlEz...</td>\n      <td>https://api.spotify.com/v1/audio-analysis/2XHj...</td>\n      <td>5.256667</td>\n      <td>4</td>\n    </tr>\n    <tr>\n      <th>4</th>\n      <td>5NoQvINZLBV1wMYPdNmReL</td>\n      <td>Road to Ruin (40th Anniversary Deluxe Edition)</td>\n      <td>I Wanna Be Sedated</td>\n      <td>Ramones</td>\n      <td>False</td>\n      <td>68</td>\n      <td>0.560</td>\n      <td>0.965</td>\n      <td>11</td>\n      <td>-2.341</td>\n      <td>...</td>\n      <td>0.000006</td>\n      <td>0.1690</td>\n      <td>0.964</td>\n      <td>162.825</td>\n      <td>audio_features</td>\n      <td>spotify:track:5NoQvINZLBV1wMYPdNmReL</td>\n      <td>https://api.spotify.com/v1/tracks/5NoQvINZLBV1...</td>\n      <td>https://api.spotify.com/v1/audio-analysis/5NoQ...</td>\n      <td>2.496450</td>\n      <td>4</td>\n    </tr>\n    <tr>\n      <th>...</th>\n      <td>...</td>\n      <td>...</td>\n      <td>...</td>\n      <td>...</td>\n      <td>...</td>\n      <td>...</td>\n      <td>...</td>\n      <td>...</td>\n      <td>...</td>\n      <td>...</td>\n      <td>...</td>\n      <td>...</td>\n      <td>...</td>\n      <td>...</td>\n      <td>...</td>\n      <td>...</td>\n      <td>...</td>\n      <td>...</td>\n      <td>...</td>\n      <td>...</td>\n      <td>...</td>\n    </tr>\n    <tr>\n      <th>95</th>\n      <td>2hE5Lm5XOHR4t3xlhIFauP</td>\n      <td>Struttin' My Stuff</td>\n      <td>Fooled Around And Fell In Love</td>\n      <td>Elvin Bishop</td>\n      <td>False</td>\n      <td>62</td>\n      <td>0.633</td>\n      <td>0.621</td>\n      <td>10</td>\n      <td>-11.494</td>\n      <td>...</td>\n      <td>0.017200</td>\n      <td>0.1860</td>\n      <td>0.593</td>\n      <td>113.325</td>\n      <td>audio_features</td>\n      <td>spotify:track:2hE5Lm5XOHR4t3xlhIFauP</td>\n      <td>https://api.spotify.com/v1/tracks/2hE5Lm5XOHR4...</td>\n      <td>https://api.spotify.com/v1/audio-analysis/2hE5...</td>\n      <td>4.600000</td>\n      <td>3</td>\n    </tr>\n    <tr>\n      <th>96</th>\n      <td>5Q0AEjqnCep72dyhVlmQ8k</td>\n      <td>Last Train Home</td>\n      <td>Louisiana Blues</td>\n      <td>Foghat</td>\n      <td>False</td>\n      <td>30</td>\n      <td>0.405</td>\n      <td>0.890</td>\n      <td>1</td>\n      <td>-7.153</td>\n      <td>...</td>\n      <td>0.010600</td>\n      <td>0.5670</td>\n      <td>0.663</td>\n      <td>121.781</td>\n      <td>audio_features</td>\n      <td>spotify:track:5Q0AEjqnCep72dyhVlmQ8k</td>\n      <td>https://api.spotify.com/v1/tracks/5Q0AEjqnCep7...</td>\n      <td>https://api.spotify.com/v1/audio-analysis/5Q0A...</td>\n      <td>4.727333</td>\n      <td>4</td>\n    </tr>\n    <tr>\n      <th>97</th>\n      <td>6LjvqlPeCj62wF4oPJ6XOe</td>\n      <td>15 Years, the Wild Ride</td>\n      <td>3 Am</td>\n      <td>Casey Donahew</td>\n      <td>False</td>\n      <td>57</td>\n      <td>0.295</td>\n      <td>0.663</td>\n      <td>7</td>\n      <td>-5.253</td>\n      <td>...</td>\n      <td>0.000000</td>\n      <td>0.1140</td>\n      <td>0.199</td>\n      <td>100.010</td>\n      <td>audio_features</td>\n      <td>spotify:track:6LjvqlPeCj62wF4oPJ6XOe</td>\n      <td>https://api.spotify.com/v1/tracks/6LjvqlPeCj62...</td>\n      <td>https://api.spotify.com/v1/audio-analysis/6Ljv...</td>\n      <td>4.546450</td>\n      <td>4</td>\n    </tr>\n    <tr>\n      <th>98</th>\n      <td>0CKxrnF9KplS21LTjkkqsW</td>\n      <td>On the Border (2013 Remaster)</td>\n      <td>Already Gone - 2013 Remaster</td>\n      <td>Eagles</td>\n      <td>False</td>\n      <td>58</td>\n      <td>0.465</td>\n      <td>0.812</td>\n      <td>7</td>\n      <td>-6.398</td>\n      <td>...</td>\n      <td>0.000494</td>\n      <td>0.4080</td>\n      <td>0.811</td>\n      <td>146.200</td>\n      <td>audio_features</td>\n      <td>spotify:track:0CKxrnF9KplS21LTjkkqsW</td>\n      <td>https://api.spotify.com/v1/tracks/0CKxrnF9KplS...</td>\n      <td>https://api.spotify.com/v1/audio-analysis/0CKx...</td>\n      <td>4.255767</td>\n      <td>4</td>\n    </tr>\n    <tr>\n      <th>99</th>\n      <td>4NPq7fPxVRbKKuN380vrGH</td>\n      <td>Autonomy</td>\n      <td>Old Flames</td>\n      <td>Brothers Moving</td>\n      <td>False</td>\n      <td>26</td>\n      <td>0.523</td>\n      <td>0.760</td>\n      <td>2</td>\n      <td>-6.748</td>\n      <td>...</td>\n      <td>0.000086</td>\n      <td>0.0713</td>\n      <td>0.758</td>\n      <td>149.370</td>\n      <td>audio_features</td>\n      <td>spotify:track:4NPq7fPxVRbKKuN380vrGH</td>\n      <td>https://api.spotify.com/v1/tracks/4NPq7fPxVRbK...</td>\n      <td>https://api.spotify.com/v1/audio-analysis/4NPq...</td>\n      <td>4.520550</td>\n      <td>4</td>\n    </tr>\n  </tbody>\n</table>\n<p>100 rows × 23 columns</p>\n</div>"
     },
     "metadata": {},
     "execution_count": 15
    }
   ],
   "source": [
    "final_df"
   ]
  },
  {
   "source": [
    "## Normalize Data"
   ],
   "cell_type": "markdown",
   "metadata": {}
  },
  {
   "cell_type": "code",
   "execution_count": 16,
   "metadata": {},
   "outputs": [],
   "source": [
    "music_feature = features_df[['danceability', 'energy', 'loudness', 'speechiness', 'acousticness', 'instrumentalness', 'liveness', 'valence', 'tempo', 'duration_ms']]"
   ]
  },
  {
   "cell_type": "code",
   "execution_count": 17,
   "metadata": {},
   "outputs": [
    {
     "output_type": "execute_result",
     "data": {
      "text/plain": [
       "       danceability      energy    loudness  speechiness  acousticness  \\\n",
       "count    100.000000  100.000000  100.000000   100.000000    100.000000   \n",
       "mean       0.494450    0.685950   -7.390370     0.060972      0.198378   \n",
       "std        0.140071    0.215299    2.927843     0.044291      0.281484   \n",
       "min        0.163000    0.160000  -15.045000     0.024100      0.000007   \n",
       "25%        0.395250    0.521750   -8.760500     0.032825      0.002955   \n",
       "50%        0.511000    0.743500   -7.123500     0.045100      0.048050   \n",
       "75%        0.594000    0.870250   -5.233250     0.074600      0.272750   \n",
       "max        0.867000    0.981000   -2.341000     0.242000      0.934000   \n",
       "\n",
       "       instrumentalness    liveness     valence       tempo  duration_ms  \n",
       "count        100.000000  100.000000  100.000000  100.000000   100.000000  \n",
       "mean           0.040251    0.200909    0.529997  118.131200     4.174974  \n",
       "std            0.124858    0.147311    0.203173   30.425966     1.155611  \n",
       "min            0.000000    0.026800    0.067700   64.763000     2.295067  \n",
       "25%            0.000003    0.101750    0.368500   92.618000     3.297667  \n",
       "50%            0.000209    0.156500    0.522000  114.266500     3.959517  \n",
       "75%            0.012575    0.265000    0.685500  136.748250     4.738083  \n",
       "max            0.792000    0.841000    0.964000  189.664000     9.647550  "
      ],
      "text/html": "<div>\n<style scoped>\n    .dataframe tbody tr th:only-of-type {\n        vertical-align: middle;\n    }\n\n    .dataframe tbody tr th {\n        vertical-align: top;\n    }\n\n    .dataframe thead th {\n        text-align: right;\n    }\n</style>\n<table border=\"1\" class=\"dataframe\">\n  <thead>\n    <tr style=\"text-align: right;\">\n      <th></th>\n      <th>danceability</th>\n      <th>energy</th>\n      <th>loudness</th>\n      <th>speechiness</th>\n      <th>acousticness</th>\n      <th>instrumentalness</th>\n      <th>liveness</th>\n      <th>valence</th>\n      <th>tempo</th>\n      <th>duration_ms</th>\n    </tr>\n  </thead>\n  <tbody>\n    <tr>\n      <th>count</th>\n      <td>100.000000</td>\n      <td>100.000000</td>\n      <td>100.000000</td>\n      <td>100.000000</td>\n      <td>100.000000</td>\n      <td>100.000000</td>\n      <td>100.000000</td>\n      <td>100.000000</td>\n      <td>100.000000</td>\n      <td>100.000000</td>\n    </tr>\n    <tr>\n      <th>mean</th>\n      <td>0.494450</td>\n      <td>0.685950</td>\n      <td>-7.390370</td>\n      <td>0.060972</td>\n      <td>0.198378</td>\n      <td>0.040251</td>\n      <td>0.200909</td>\n      <td>0.529997</td>\n      <td>118.131200</td>\n      <td>4.174974</td>\n    </tr>\n    <tr>\n      <th>std</th>\n      <td>0.140071</td>\n      <td>0.215299</td>\n      <td>2.927843</td>\n      <td>0.044291</td>\n      <td>0.281484</td>\n      <td>0.124858</td>\n      <td>0.147311</td>\n      <td>0.203173</td>\n      <td>30.425966</td>\n      <td>1.155611</td>\n    </tr>\n    <tr>\n      <th>min</th>\n      <td>0.163000</td>\n      <td>0.160000</td>\n      <td>-15.045000</td>\n      <td>0.024100</td>\n      <td>0.000007</td>\n      <td>0.000000</td>\n      <td>0.026800</td>\n      <td>0.067700</td>\n      <td>64.763000</td>\n      <td>2.295067</td>\n    </tr>\n    <tr>\n      <th>25%</th>\n      <td>0.395250</td>\n      <td>0.521750</td>\n      <td>-8.760500</td>\n      <td>0.032825</td>\n      <td>0.002955</td>\n      <td>0.000003</td>\n      <td>0.101750</td>\n      <td>0.368500</td>\n      <td>92.618000</td>\n      <td>3.297667</td>\n    </tr>\n    <tr>\n      <th>50%</th>\n      <td>0.511000</td>\n      <td>0.743500</td>\n      <td>-7.123500</td>\n      <td>0.045100</td>\n      <td>0.048050</td>\n      <td>0.000209</td>\n      <td>0.156500</td>\n      <td>0.522000</td>\n      <td>114.266500</td>\n      <td>3.959517</td>\n    </tr>\n    <tr>\n      <th>75%</th>\n      <td>0.594000</td>\n      <td>0.870250</td>\n      <td>-5.233250</td>\n      <td>0.074600</td>\n      <td>0.272750</td>\n      <td>0.012575</td>\n      <td>0.265000</td>\n      <td>0.685500</td>\n      <td>136.748250</td>\n      <td>4.738083</td>\n    </tr>\n    <tr>\n      <th>max</th>\n      <td>0.867000</td>\n      <td>0.981000</td>\n      <td>-2.341000</td>\n      <td>0.242000</td>\n      <td>0.934000</td>\n      <td>0.792000</td>\n      <td>0.841000</td>\n      <td>0.964000</td>\n      <td>189.664000</td>\n      <td>9.647550</td>\n    </tr>\n  </tbody>\n</table>\n</div>"
     },
     "metadata": {},
     "execution_count": 17
    }
   ],
   "source": [
    "music_feature.describe()"
   ]
  },
  {
   "cell_type": "code",
   "execution_count": 22,
   "metadata": {},
   "outputs": [
    {
     "output_type": "error",
     "ename": "ModuleNotFoundError",
     "evalue": "No module named 'sklearn'",
     "traceback": [
      "\u001b[1;31m---------------------------------------------------------------------------\u001b[0m",
      "\u001b[1;31mModuleNotFoundError\u001b[0m                       Traceback (most recent call last)",
      "\u001b[1;32m<ipython-input-22-a83e8a732cf8>\u001b[0m in \u001b[0;36m<module>\u001b[1;34m\u001b[0m\n\u001b[1;32m----> 1\u001b[1;33m \u001b[1;32mfrom\u001b[0m \u001b[0msklearn\u001b[0m\u001b[1;33m.\u001b[0m\u001b[0mpreprocessing\u001b[0m \u001b[1;32mimport\u001b[0m \u001b[0mMinMaxScaler\u001b[0m\u001b[1;33m\u001b[0m\u001b[1;33m\u001b[0m\u001b[0m\n\u001b[0m",
      "\u001b[1;31mModuleNotFoundError\u001b[0m: No module named 'sklearn'"
     ]
    }
   ],
   "source": [
    "from sklearn.preprocessing import MinMaxScaler"
   ]
  },
  {
   "cell_type": "code",
   "execution_count": 23,
   "metadata": {},
   "outputs": [
    {
     "output_type": "error",
     "ename": "NameError",
     "evalue": "name 'MinMaxScaler' is not defined",
     "traceback": [
      "\u001b[1;31m---------------------------------------------------------------------------\u001b[0m",
      "\u001b[1;31mNameError\u001b[0m                                 Traceback (most recent call last)",
      "\u001b[1;32m<ipython-input-23-2bf6072a85a1>\u001b[0m in \u001b[0;36m<module>\u001b[1;34m\u001b[0m\n\u001b[1;32m----> 1\u001b[1;33m \u001b[0mmin_max_scaler\u001b[0m \u001b[1;33m=\u001b[0m \u001b[0mMinMaxScaler\u001b[0m\u001b[1;33m(\u001b[0m\u001b[1;33m)\u001b[0m\u001b[1;33m\u001b[0m\u001b[1;33m\u001b[0m\u001b[0m\n\u001b[0m",
      "\u001b[1;31mNameError\u001b[0m: name 'MinMaxScaler' is not defined"
     ]
    }
   ],
   "source": [
    "min_max_scaler = MinMaxScaler()"
   ]
  },
  {
   "cell_type": "code",
   "execution_count": null,
   "metadata": {},
   "outputs": [],
   "source": []
  }
 ]
}